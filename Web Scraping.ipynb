{
 "cells": [
  {
   "cell_type": "code",
   "execution_count": 1,
   "id": "93a20363",
   "metadata": {},
   "outputs": [],
   "source": [
    "from bs4 import BeautifulSoup\n",
    "import requests"
   ]
  },
  {
   "cell_type": "code",
   "execution_count": 25,
   "id": "ceebb086",
   "metadata": {
    "scrolled": false
   },
   "outputs": [
    {
     "name": "stdout",
     "output_type": "stream",
     "text": [
      "                                         Product Name     Price       Date\n",
      "0   Smartphone Moto G14 Dual SIM 6,5\" 128gb 4gb RA...     R$776 2024-01-15\n",
      "1   Notebook Samsung Galaxy Book Go NP340XLA-K06BR...   R$1.398 2024-01-15\n",
      "2   Smart Tv 43'' Full Hd Com Roku Tv 43s5135/78g ...   R$1.488 2024-01-15\n",
      "3   Micro-ondas Efficient 23 Litros Me23b Branco E...     R$549 2024-01-15\n",
      "4   Creatina Monohidratada 500g - 100% Pura - Sold...   R$96,53 2024-01-15\n",
      "5   Parafusadeira E Furadeira Wap Impacto 21v 3/8 ...  R$249,90 2024-01-15\n",
      "6   Samsung Galaxy A14 4G (Exynos) Dual SIM 128 GB...  R$899,10 2024-01-15\n",
      "7   Notebook Samsung Book I3 4gb 256gb Ssd 15,6'' ...   R$1.999 2024-01-15\n",
      "8                Smart TV Samsung BET-B HD 32\" Bivolt   R$1.099 2024-01-15\n",
      "9   Ventilador Osc Coluna Turbo 6p 50cm Preto 127v...  R$239,90 2024-01-15\n",
      "10  Creatina Monohidratada 1kg - 100% Pura Importa...  R$175,12 2024-01-15\n",
      "11  Tablet Samsung Galaxy S6 Lite 64gb 4gb Ram And...   R$2.002 2024-01-15\n",
      "12  Fritadeira Sem Óleo Air Fryer Af-55i 5,5l Pret...  R$398,90 2024-01-15\n",
      "13  Notebook Samsung Book i5-1135G7 8GB 512GB SSD ...   R$2.870 2024-01-15\n",
      "14      Samsung Galaxy A54 5g 6,4 128gb 8gb Ram Preto   R$1.592 2024-01-15\n",
      "15  Micro-ondas MI41S 31 Litros Prata 31L Electrol...     R$799 2024-01-15\n",
      "16         Samsung Smart Tv 43'' Uhd 4k 43cu7700 2023   R$1.985 2024-01-15\n",
      "17  Mercado Pago: Point Pro2 - A Maquininha De Car...  R$112,42 2024-01-15\n",
      "18  Aspirador De Pó Wap High Speed Plus 1350w Vert...  R$168,85 2024-01-15\n",
      "19  Notebook Gamer Acer An515-45-r91a R5 8gb 512gb...   R$3.599 2024-01-15\n",
      "20             Moto E13 64gb 4gb Ram Grafite Motorola     R$599 2024-01-15\n",
      "21  Máquina De Lavar Ciclo Edredom Cwh12bb 12kg Br...   R$1.699 2024-01-15\n",
      "22        Smart Tv 32'' Hd Tizen T4300 Samsung Bivolt   R$1.098 2024-01-15\n",
      "23  Micro-ondas Efficient 23 Litros Me23b Branco E...     R$549 2024-01-15\n",
      "24  Notebook Acer A315-24p-r611 R5 8gb 256gb Ssd 1...   R$2.338 2024-01-15\n",
      "25  Apple iPhone 15 Pro Max (256 GB) - Titânio Nat...   R$7.919 2024-01-15\n",
      "26  Ventilador de Mesa Turbo 80w 40cm 3 Velocidade...  R$189,90 2024-01-15\n",
      "27  Smart Tv Led 50  Uhd 4k LG 50ur871c0sa Thinq A...   R$2.209 2024-01-15\n",
      "28  Creatina Monohidratada 600g - 100% Pura - Sold...  R$109,90 2024-01-15\n",
      "29  Fritadeira Sem Óleo Air Fryer Afn-40-bft 4l 15...  R$352,90 2024-01-15\n",
      "30  Notebook Ultrafino Ideapad 3 R7 12gb 512gb Lin...   R$2.599 2024-01-15\n",
      "31  Samsung Galaxy S23 128gb 5g Processador Snapdr...   R$3.031 2024-01-15\n",
      "32   Sony Playstation 5 825gb Standard Branco E Preto   R$3.979 2024-01-15\n",
      "33  Tv Smart LG Led 43 4k Al Thinq 43ur781c Wi-fi ...   R$1.807 2024-01-15\n",
      "34  Ventilador De Mesa 6 Pás Super Power Vsp-30-w ...  R$159,46 2024-01-15\n",
      "35  Azeite de Oliva Extra Virgem Terras de Camões ...   R$28,85 2024-01-15\n",
      "36  Modulo Potencia Taramps Ts400 Ts 400 T400 Mono...  R$177,90 2024-01-15\n",
      "37           Samsung Galaxy A14 5g 64gb 4gb Ram Preto     R$799 2024-01-15\n",
      "38  Notebook Samsung Book Intel Core I7 Windows11 ...   R$2.999 2024-01-15\n",
      "39  Smart Tv 50pug7408/78 50 4k Google Tv Uhd Led ...   R$2.075 2024-01-15\n",
      "40  Impressora a cor multifuncional Epson EcoTank ...   R$1.030 2024-01-15\n",
      "41           Samsung Galaxy A24 128 GB preto 4 GB RAM   R$1.049 2024-01-15\n",
      "42  Liquidificador Mondial L-99 500w 2,2l C/ Jarra...  R$112,90 2024-01-15\n",
      "43  Monitor Gamer Hero 24'' 24g2 Fhd Ips 144hz 1ms...     R$859 2024-01-15\n",
      "44  Micro-ondas Jumbo Tira Odor Pmo42eb 42l Branco...     R$679 2024-01-15\n",
      "45  Smartphone Samsung Galaxy A14 4g 128GB Preto 4...  R$809,10 2024-01-15\n",
      "46  Smart Tv 43'' Samsung T5300 Full Hd Tizen Hdmi...   R$1.739 2024-01-15\n",
      "47  Impressora a cor multifuncional Epson EcoTank ...   R$1.032 2024-01-15\n"
     ]
    }
   ],
   "source": [
    "import requests\n",
    "from bs4 import BeautifulSoup\n",
    "import pandas as pd\n",
    "from datetime import datetime\n",
    "\n",
    "# URL do site alvo\n",
    "url = 'https://www.mercadolivre.com.br/ofertas#nav-header' \n",
    "# Fazendo a requisição HTTP\n",
    "response = requests.get(url)\n",
    "\n",
    "# Verificando se a requisição foi bem-sucedida (código 200)\n",
    "if response.status_code == 200:\n",
    "    # Parseando o conteúdo HTML\n",
    "    soup = BeautifulSoup(response.content, 'html.parser')\n",
    "\n",
    "    # Encontrando os elementos desejados (preço e nomes dos produtos)\n",
    "    prices = soup.find_all('div', class_=\"andes-money-amount-combo__main-container\")\n",
    "    product_names = soup.find_all('p', class_=\"promotion-item__title\")\n",
    "\n",
    "    # Criando listas para armazenar os dados\n",
    "    prices_list = [price.text.strip() for price in prices]\n",
    "    product_names_list = [name.text.strip() for name in product_names]\n",
    "\n",
    "    # Criando um DataFrame com Pandas\n",
    "    data = {'Product Name': product_names_list, 'Price': prices_list}\n",
    "    df = pd.DataFrame(data)\n",
    "\n",
    "    # Adicionando uma nova coluna com a data de hoje\n",
    "    df['Date'] = datetime.now().strftime('%Y-%m-%d')\n",
    "    df['Date'] = pd.to_datetime(df['Date'])\n",
    "    \n",
    "    # Exibindo o DataFrame\n",
    "    print(df)\n",
    "\n",
    "else:\n",
    "    print(\"Falha ao acessar a página. Código de resposta:\", response.status_code)"
   ]
  },
  {
   "cell_type": "code",
   "execution_count": null,
   "id": "be91dfa2",
   "metadata": {},
   "outputs": [],
   "source": []
  },
  {
   "cell_type": "code",
   "execution_count": null,
   "id": "e1d57b8a",
   "metadata": {},
   "outputs": [],
   "source": []
  },
  {
   "cell_type": "code",
   "execution_count": null,
   "id": "fa33c30e",
   "metadata": {},
   "outputs": [],
   "source": []
  },
  {
   "cell_type": "code",
   "execution_count": null,
   "id": "7c3c374f",
   "metadata": {},
   "outputs": [],
   "source": []
  },
  {
   "cell_type": "code",
   "execution_count": null,
   "id": "873eb1f3",
   "metadata": {},
   "outputs": [],
   "source": []
  },
  {
   "cell_type": "code",
   "execution_count": null,
   "id": "29fcbb56",
   "metadata": {},
   "outputs": [],
   "source": []
  },
  {
   "cell_type": "code",
   "execution_count": null,
   "id": "61c0076f",
   "metadata": {},
   "outputs": [],
   "source": []
  },
  {
   "cell_type": "code",
   "execution_count": null,
   "id": "8ff8e31b",
   "metadata": {},
   "outputs": [],
   "source": []
  },
  {
   "cell_type": "code",
   "execution_count": null,
   "id": "15e91938",
   "metadata": {},
   "outputs": [],
   "source": []
  },
  {
   "cell_type": "code",
   "execution_count": null,
   "id": "500abc8e",
   "metadata": {},
   "outputs": [],
   "source": []
  },
  {
   "cell_type": "code",
   "execution_count": null,
   "id": "3d05ea8e",
   "metadata": {},
   "outputs": [],
   "source": []
  },
  {
   "cell_type": "code",
   "execution_count": null,
   "id": "2b245c90",
   "metadata": {},
   "outputs": [],
   "source": []
  },
  {
   "cell_type": "code",
   "execution_count": null,
   "id": "e7ad10a1",
   "metadata": {},
   "outputs": [],
   "source": []
  },
  {
   "cell_type": "code",
   "execution_count": null,
   "id": "39260239",
   "metadata": {},
   "outputs": [],
   "source": []
  },
  {
   "cell_type": "code",
   "execution_count": null,
   "id": "c0d7a8e8",
   "metadata": {},
   "outputs": [],
   "source": []
  },
  {
   "cell_type": "code",
   "execution_count": null,
   "id": "9c86540a",
   "metadata": {},
   "outputs": [],
   "source": []
  },
  {
   "cell_type": "code",
   "execution_count": null,
   "id": "8f639523",
   "metadata": {},
   "outputs": [],
   "source": []
  },
  {
   "cell_type": "code",
   "execution_count": null,
   "id": "62e8f917",
   "metadata": {},
   "outputs": [],
   "source": []
  },
  {
   "cell_type": "code",
   "execution_count": null,
   "id": "38de61e1",
   "metadata": {},
   "outputs": [],
   "source": []
  }
 ],
 "metadata": {
  "kernelspec": {
   "display_name": "Python 3 (ipykernel)",
   "language": "python",
   "name": "python3"
  },
  "language_info": {
   "codemirror_mode": {
    "name": "ipython",
    "version": 3
   },
   "file_extension": ".py",
   "mimetype": "text/x-python",
   "name": "python",
   "nbconvert_exporter": "python",
   "pygments_lexer": "ipython3",
   "version": "3.12.0"
  }
 },
 "nbformat": 4,
 "nbformat_minor": 5
}
