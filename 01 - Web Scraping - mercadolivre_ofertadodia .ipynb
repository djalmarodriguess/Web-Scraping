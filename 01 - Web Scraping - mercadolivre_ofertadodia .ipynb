{
 "cells": [
  {
   "cell_type": "code",
   "execution_count": 1,
   "id": "93a20363",
   "metadata": {},
   "outputs": [],
   "source": [
    "from bs4 import BeautifulSoup\n",
    "import requests"
   ]
  },
  {
   "cell_type": "code",
   "execution_count": 2,
   "id": "ceebb086",
   "metadata": {
    "scrolled": false
   },
   "outputs": [
    {
     "name": "stdout",
     "output_type": "stream",
     "text": [
      "                                         Product Name     Price       Date\n",
      "0   Ar Condicionado Samsung Windfree Windfree 12.0...   R$2.782 2024-01-16\n",
      "1       Samsung Galaxy A54 5g 6,4 128gb 8gb Ram Preto   R$1.979 2024-01-16\n",
      "2   Notebook Samsung Galaxy Book Go NP340XLA-K06BR...   R$1.398 2024-01-16\n",
      "3                Smart TV Samsung BET-B HD 32\" Bivolt   R$1.099 2024-01-16\n",
      "4   Mercado Pago: Point Pro2 - A Maquininha De Car...  R$112,41 2024-01-16\n",
      "5   Micro-ondas Efficient 23 Litros Me23b Branco E...     R$579 2024-01-16\n",
      "6    Sony Playstation 5 825gb Standard Branco E Preto   R$4.184 2024-01-16\n",
      "7   Smartphone Moto G14 Dual SIM 6,5\" 128gb 4gb RA...     R$776 2024-01-16\n",
      "8   Notebook Samsung Book I3 4gb 256gb Ssd 15,6'' ...   R$2.249 2024-01-16\n",
      "9          Samsung Smart Tv 43'' Uhd 4k 43cu7700 2023   R$1.792 2024-01-16\n",
      "10  M√°quina De Lavar Ciclo Edredom Cwh12bb 12kg B...   R$1.699 2024-01-16\n",
      "11                     Camisa 1 Cr Flamengo 23 adidas  R$149,99 2024-01-16\n",
      "12  Creatina Monohidratada 500g - 100% Pura - Sold...  R$102,12 2024-01-16\n",
      "13  Smartphone Samsung Galaxy A04e 64gb Preto 3gb Ram  R$530,10 2024-01-16\n",
      "14  Fritadeira Sem √ìleo Air Fryer Af-55i 5,5l Pre...  R$398,90 2024-01-16\n",
      "15  Smart Tv 40\" Btv40g7pr2csblf Roku Tv Led Dolby...   R$1.133 2024-01-16\n",
      "16  Furadeira parafusadeira sem fio de 10mm Wap BP...  R$189,90 2024-01-16\n",
      "17  Notebook Acer A315-24p-r611 R5 8gb 256gb Ssd 1...   R$2.338 2024-01-16\n",
      "18  Micro-ondas Efficient 23 Litros Me23b Branco E...     R$579 2024-01-16\n",
      "19  Samsung Galaxy A14 4G (Exynos) Dual SIM 128 GB...  R$899,10 2024-01-16\n",
      "20  Kit 10 Cueca Boxer Algod√£o Sem Costura Box At...  R$149,75 2024-01-16\n",
      "21  Smart Tv Led 50  Uhd 4k LG 50ur871c0sa Thinq A...   R$2.209 2024-01-16\n",
      "22  C√¢mera de seguran√ßa Intelbras iM3 com resolu...  R$239,90 2024-01-16\n",
      "23  Suplemento em p√≥ Creatina Max Titanium Monohi...   R$78,13 2024-01-16\n",
      "24  Panela De Press√£o El√©trica Pcc20 6l Inox Pre...  R$499,90 2024-01-16\n",
      "25           Samsung Galaxy A14 5g 64gb 4gb Ram Preto     R$799 2024-01-16\n",
      "26  Notebook Samsung Book i5-1135G7 8GB 512GB SSD ...   R$2.870 2024-01-16\n",
      "27  Smart Tv 43'' Full Hd Com Roku Tv 43s5135/78g ...   R$1.488 2024-01-16\n",
      "28  Camera Ip Inteligente Lampada Panoramica Yoose...   R$59,77 2024-01-16\n",
      "29  Monitor 23.8 Full Hd Ips Amd Freesync 24mp400 ...  R$646,59 2024-01-16\n",
      "30          Samsung Galaxy A14 5g 128gb 4gb Ram Preto  R$890,10 2024-01-16\n",
      "31  Notebook Samsung Book Intel Core I7 Windows11 ...   R$2.999 2024-01-16\n",
      "32        Smart Tv 32'' Hd Tizen T4300 Samsung Bivolt   R$1.106 2024-01-16\n",
      "33          Micro-ondas Midea MXSA35   prata 35L 127V     R$619 2024-01-16\n",
      "34  Creatina Monohidratada 600g - 100% Pura - Sold...  R$109,90 2024-01-16\n",
      "35                           Piscina 1.000 Litros Mor  R$187,82 2024-01-16\n",
      "36             Moto E13 64gb 4gb Ram Grafite Motorola     R$599 2024-01-16\n",
      "37  Smart Tv 50'' 4k Android Hdr10 Dolby Aws-tv-50...   R$1.799 2024-01-16\n",
      "38  Piscina Infl√°vel redonda Mor 001048 de 1.65m ...  R$169,90 2024-01-16\n",
      "39  Ventilador De Teto Ventisol F√™nix Led Branco ...  R$223,44 2024-01-16\n",
      "40  Protetor Anthelios Airlicium Sem Cor Fps 80 An...   R$67,44 2024-01-16\n",
      "41  Apple iPhone 15 Pro Max (256 GB) - Tit√¢nio Na...   R$7.919 2024-01-16\n",
      "42  Fechadura Digital De Sobrepor Fr 101 Preta Int...  R$341,90 2024-01-16\n",
      "43      Smart Tv 43pug7408/78 43 4k Google Tv Philips   R$1.699 2024-01-16\n",
      "44  Monitor Gamer Hero 24'' 24g2 Fhd Ips 144hz 1ms...     R$859 2024-01-16\n",
      "45  Ventilador De Coluna Turbo 6 P√°s, 40 Cm De Di...  R$225,33 2024-01-16\n",
      "46  Notebook Gamer Acer An515-45-r91a R5 8gb 512gb...   R$3.599 2024-01-16\n",
      "47  Samsung Galaxy S23 128gb 5g Processador Snapdr...   R$3.653 2024-01-16\n"
     ]
    }
   ],
   "source": [
    "import requests\n",
    "from bs4 import BeautifulSoup\n",
    "import pandas as pd\n",
    "from datetime import datetime\n",
    "\n",
    "# URL do site alvo\n",
    "url = 'https://www.mercadolivre.com.br/ofertas#nav-header' \n",
    "# Fazendo a requisição HTTP\n",
    "response = requests.get(url)\n",
    "\n",
    "# Verificando se a requisição foi bem-sucedida (código 200)\n",
    "if response.status_code == 200:\n",
    "    # Parseando o conteúdo HTML\n",
    "    soup = BeautifulSoup(response.content, 'html.parser')\n",
    "\n",
    "    # Encontrando os elementos desejados (preço e nomes dos produtos)\n",
    "    prices = soup.find_all('div', class_=\"andes-money-amount-combo__main-container\")\n",
    "    product_names = soup.find_all('p', class_=\"promotion-item__title\")\n",
    "\n",
    "    # Criando listas para armazenar os dados\n",
    "    prices_list = [price.text.strip() for price in prices]\n",
    "    product_names_list = [name.text.strip() for name in product_names]\n",
    "\n",
    "    # Criando um DataFrame com Pandas\n",
    "    data = {'Product Name': product_names_list, 'Price': prices_list}\n",
    "    df = pd.DataFrame(data)\n",
    "\n",
    "    # Adicionando uma nova coluna com a data de hoje\n",
    "    df['Date'] = datetime.now().strftime('%Y-%m-%d')\n",
    "    df['Date'] = pd.to_datetime(df['Date'])\n",
    "    \n",
    "    # Exibindo o DataFrame\n",
    "    print(df)\n",
    "\n",
    "else:\n",
    "    print(\"Falha ao acessar a página. Código de resposta:\", response.status_code)"
   ]
  },
  {
   "cell_type": "code",
   "execution_count": null,
   "id": "f20c9be2",
   "metadata": {},
   "outputs": [],
   "source": []
  }
 ],
 "metadata": {
  "kernelspec": {
   "display_name": "Python 3 (ipykernel)",
   "language": "python",
   "name": "python3"
  },
  "language_info": {
   "codemirror_mode": {
    "name": "ipython",
    "version": 3
   },
   "file_extension": ".py",
   "mimetype": "text/x-python",
   "name": "python",
   "nbconvert_exporter": "python",
   "pygments_lexer": "ipython3",
   "version": "3.12.0"
  }
 },
 "nbformat": 4,
 "nbformat_minor": 5
}
