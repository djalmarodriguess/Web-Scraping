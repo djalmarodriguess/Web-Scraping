{
 "cells": [
  {
   "cell_type": "code",
   "execution_count": 3,
   "id": "df19b96b",
   "metadata": {},
   "outputs": [],
   "source": [
    "from bs4 import BeautifulSoup\n",
    "import requests"
   ]
  },
  {
   "cell_type": "code",
   "execution_count": 7,
   "id": "5eb099e3",
   "metadata": {},
   "outputs": [],
   "source": [
    "url = 'https://intershop.bancointer.com.br/Ar-e-Ventilacao/dp?dId=1'\n",
    "\n",
    "response = requests.get(url= url)"
   ]
  },
  {
   "cell_type": "code",
   "execution_count": 15,
   "id": "3b40bcf1",
   "metadata": {
    "scrolled": false
   },
   "outputs": [
    {
     "name": "stdout",
     "output_type": "stream",
     "text": [
      "Conteúdo do corpo da página:\n",
      "Compre por departamentosSmartphonesSmart TVEletrodomésticosGift Cards Extensão Como funciona?  O Inter Shop tem tudo que você precisa e cashback direto na sua conta!DestaquesAté 60% OffAté 50% OffEletrodomésticosSmart TVsiPhonesEletroportáteisSmartwatchesSmartphones AndroidiPads e TabletsNotebooksGamesCategorias de sites parceirosTodasAr e VentilaçãoÁudioAutomotivoBebês e Infantil BebidasBeleza e PerfumariaCasa e Construção Computadores e InformáticaEducaçãoEletrodomésticosEletroportáteisEsporte e LazerFarmácia e SaúdeGames e ConsolesImportadosJoalheriaLivros e RevistasMercado e AlimentosModa e AcessóriosMóveis e DecoraçãoPara sua EmpresaPet ShopPresentesSmartphonesSmart TVsSorte e LoteriaUtilidades DomésticasViagemAtive seu cashback comprando direto no site da lojaÉ rápido, fácil e seguro!Adicione a extensão do Inter Shop no seu navegador e ganhe dinheiro de volta comprando em centenas de sites parceiros.Adicionar ao Chrome Perguntas frequentesAinda tem dúvidas? Veja se podemos te ajudar com essas respostas.Como comprar no Inter Shop?Existem 2 maneiras de comprar no Inter Shop:  Compra pelo app: acesse o Super App do Inter, clique em Inter Shop na tela inicial, busque pelo produto desejado e finalize sua compra dentro app.  Compra no site parceiro: busque pela loja desejada, clique em Comprar Agora, preencha seus dados e clique em Ir para a loja. Você será direcionado para o site parceiro para efetuar a compra diretamente por lá.   Se você ainda não é correntista Inter também pode aproveitar. É só escolher a loja parceira e seguir os passos do item 2 para garantir seu cashback! Como rastrear compra no Inter Shop? A aprovação do pagamento, separação e entrega do produto ou serviço adquirido em site parceiro é de responsabilidade da loja na qual a compra foi realizada. Desse modo, para rastrear uma compra feita pelo Inter Shop, acesse o site da loja parceira em que realizou a compra. Como funciona o cashback do Inter Shop?No Inter Shop você compra em centenas de lojas, direto pelo Super App ou nas lojas parceiras, e o cashback cai direto na sua conta para usar como quiser!   Quem não é correntista Inter também pode aproveitar. É só escolher entre as lojas parceiras, preencher o cadastro inicial e clicar em Ir para a Loja. Depois da compra, você receberá um e-mail informando sobre o seu cashback.Como calcular o cashback?O cashback do Inter Shop é oferecido em formato de porcentagem. Portanto, para calcular o valor do cashback, basta fazer a relação de porcentagem de cashback oferecida sobre o valor do produto que deseja comprar. Pronto, o resultado é o valor que você receberá de volta quando efetuar a compra.   Exemplo: se o produto custa R$ 1.000 e possui 12% de cashback, você receberá R$ 120 de volta na compra. Ou seja, na prática o produto custaria apenas R$ 880. Como resgatar o cashback Inter Shop? O cashback do Inter Shop é depositado direto na conta sua conta bancária. Caso não tenha conta no Inter, você receberá seu cashback na conta que você informar no cadastro inicial antes de efetivar a compra pelo Inter Shop.   Faça aqui o seu cadastro e aproveite!  Não recebi meu cashback Inter Shop. O que fazer? O prazo para o recebimento de cashback de não correntistas é de 45 a 120 dias após a confirmação da compra. Se o seu cashback não for depositado nesse prazo, certifique-se de que você tenha feito todos os procedimentos necessários no momento da compra para recebê-lo.   Se você não recebeu seu cashback, é possível que:   tenha usado cupom ou promoção que não estavam sendo oferecidos pelo Inter Shop.   não tenha concluído o pagamento da sua compra dentro do prazo estabelecido pela loja.   tenha cancelado ou alterado um ou mais itens do pedido.   tenha alterado a forma de pagamento do pedido.    Caso não se enquadre em nenhuma das situações acima, você pode acessar nossa Central de Ajuda Inter ou entrar em contato pelos canais de atendimento:   Capitais e regiões metropolitanas 3003 4070   Demais localidades 0800 940 0007   SAC (24 horas) 0800 940 9999   Deficiente de fala e audição 0800 979 7099   Ouvidoria 0800 940 7772    O cashback das compras feitas pelo Inter Shop é o mesmo para correntistas e não correntistas? Se você não tem conta no Inter, a porcentagem de cashback creditada na sua conta pode ser igual, mas geralmente corresponde a 70% da porcentagem indicada para aquela loja.   Por isso, ao escolher a loja parceira em que deseja comprar, confira as regras e valores de cashback disponíveis para correntistas e não correntistas Inter, pois eles podem variar.  Qual o tempo de entrega do Inter Shop?A entrega do produto ou serviço adquirido é de responsabilidade da loja parceira. Ou seja, você deve conferir o prazo de entrega e acompanhar o status do pedido diretamente no site parceiro em que realizou a compra. O que é cashback?Cashback significa, literalmente, dinheiro de volta. Funciona assim: você realiza uma compra e parte do valor pago é devolvido para você. Como ganhar cashback? Confira no passo a passo de como ganhar cashback nas compras online usando o Inter Shop:   Escolha uma loja parceira;   Preencha seus dados e clique em Ir para a loja;   Faça suas compras direto no site parceiro;   Depois da compra, você receberá um e-mail de confirmação do seu cashback.  Como é definido o valor do cashback? A porcentagem do cashback é definida com os sites parceiros e esse valor sempre é informado aqui no Inter Shop junto ao produto ou loja parceira. Assim, você consegue saber exatamente quanto receberá de dinheiro de volta na sua compra.   Já as políticas de compra e os métodos de pagamento são definidos pelas lojas parceiras.  Quanto tempo demora para cair o cashback do Inter Shop? Se você é correntista Inter, o cashback será depositado na sua conta em até:    1 dia: para compras realizadas dentro do Super App Inter.    30 dias: para compras realizadas por meio do direcionamento para sites parceiros. No entanto, em casos excepcionais, o pagamento do cashback pode acontecer em até 120 dias devido à necessidade de cumprimento de políticas internas.    Se você ainda não é correntista Inter, o cashback é pago entre:   45 e 120 dias, uma vez que a compra é realizada por meio do direcionamento para sites parceiros. O valor é creditado na conta de qualquer instituição bancária informada por você no cadastro básico. Faça aqui o seu cadastro e aproveite!   Não sou correntista Inter, posso comprar e ganhar cashback no Inter Shop? Sim! Você não precisar ter conta no banco Inter para comprar e ganhar cashback.   É só buscar pela loja parceira dentro deste site, clicar em Comprar agora, preencher o cadastro informando em qual instituição bancária deseja receber seu cashback e clicar em Ir para a loja para finalizar sua compra.   Assim, seu cashback é devolvido direto na conta corrente de sua preferência.    Fique atento: para ter direito ao cashback do Inter Shop, é importante seguir as seguintes dicas:   Não use cupom ou promoção que não são oferecidos pelo Inter Shop.   Conclua o pagamento dentro do prazo estabelecido pela loja.   Não altere a forma de pagamento do pedido.   Não cancele ou troque um ou mais itens do pedido.    A compra deve ser feita do início ao fim no site parceiro aberto a partir do redirecionamento do Inter Shop.   O Inter Shop é confiável? Sim! Comprar no Inter Shop é seguro e vale muito a pena. Afinal, o Inter Shop é o Shopping do Inter, um Super App e banco completo, regulamentado pelo Banco Central, e que é utilizado por milhões de pessoas.   Além disso, o Inter Shop reúne mais de 400 lojas parceiras, incluindo os maiores e-commerces do Brasil, como Amazon, Magalu, Ponto, Carrefour, Netshoes, Nike e muito mais. Milhões de pessoas já compraram e economizaram muito ganhando dinheiro de volta com o Inter Shop. Melhores CashbacksDinheiro de volta na sua contaLojas parceirasEncontre as maiores marcas do mercadoCompre com confiançaInter Shop é um ambiente 100% seguroSuporte pós vendaTime especializado para te atenderNosso Super AppTudo que você precisa em um só lugarMais buscadosCelularesNotebooksEletrodomésticosEletroportáteisTVsMóveisMelhores ofertas do anoMês do consumidorInter DayBlack FridayPra vocêCupons de descontoLojas com cashbackComo funciona o cashbackAdicionar extensão ao ChromeGuia de comprasAbra sua conta digital no InterPrecisa de ajuda?Central de ajudaOuvidoriaFale com a genteCapitais e regiões metropolitanas3003 4070Demais localidades0800 940 0007SAC (24 horas)0800 940 9999Deficiente de fala e audição0800 979 7099Ouvidoria0800 940 7772Não ligamos pra você por esses telefones. Também não solicitamos dados pessoais, senha da conta, código de transação por telefone. Estes números são apenas para você fazer ligações para o Inter.INTR|Nasdaq ListedCertificação de privacidadeBaixe o Super AppSiga o InterSegurançaPrivacidade de DadosPolítica de PrivacidadeCanal de ÉticaPolítica de Segurança da InformaçãoPolítica de Segurança da Informação para Fornecedores© 2024 Banco Inter S.A. CNPJ: 00.416.968/0001-01Belo Horizonte | MG - Av. Barbacena, 1219 - Santo Agostinho.São Paulo | SP - Avenida Presidente Juscelino Kubitschek, 1.400, 8º andar, CJ 81 - Vila Nova Conceição. CEP: 04543-000\n"
     ]
    }
   ],
   "source": [
    "import requests\n",
    "from bs4 import BeautifulSoup\n",
    "\n",
    "url = 'https://intershop.bancointer.com.br/'\n",
    "\n",
    "# Faça uma solicitação HTTP para a página\n",
    "response = requests.get(url)\n",
    "\n",
    "# Verifique se a solicitação foi bem-sucedida\n",
    "if response.status_code == 200:\n",
    "    # Parse o conteúdo HTML da página\n",
    "    soup = BeautifulSoup(response.text, 'html.parser')\n",
    "\n",
    "    # Exemplo: para extrair o conteúdo do corpo da página\n",
    "    body_content = soup.body.text\n",
    "    print(f'Conteúdo do corpo da página:\\n{body_content}')\n",
    "\n",
    "else:\n",
    "    print(f'Falha ao acessar a página. Código de status: {response.status_code}')\n"
   ]
  },
  {
   "cell_type": "code",
   "execution_count": null,
   "id": "31c63ab0",
   "metadata": {
    "scrolled": false
   },
   "outputs": [],
   "source": []
  },
  {
   "cell_type": "code",
   "execution_count": null,
   "id": "2033a561",
   "metadata": {},
   "outputs": [],
   "source": []
  },
  {
   "cell_type": "code",
   "execution_count": null,
   "id": "3e6801da",
   "metadata": {},
   "outputs": [],
   "source": []
  },
  {
   "cell_type": "code",
   "execution_count": null,
   "id": "ca310885",
   "metadata": {},
   "outputs": [],
   "source": []
  },
  {
   "cell_type": "code",
   "execution_count": null,
   "id": "eccd7e60",
   "metadata": {},
   "outputs": [],
   "source": []
  },
  {
   "cell_type": "code",
   "execution_count": null,
   "id": "78455728",
   "metadata": {},
   "outputs": [],
   "source": []
  },
  {
   "cell_type": "code",
   "execution_count": null,
   "id": "20509149",
   "metadata": {},
   "outputs": [],
   "source": []
  },
  {
   "cell_type": "code",
   "execution_count": null,
   "id": "6562b553",
   "metadata": {},
   "outputs": [],
   "source": []
  },
  {
   "cell_type": "code",
   "execution_count": null,
   "id": "c0313363",
   "metadata": {},
   "outputs": [],
   "source": []
  },
  {
   "cell_type": "code",
   "execution_count": null,
   "id": "4d004c03",
   "metadata": {},
   "outputs": [],
   "source": []
  },
  {
   "cell_type": "code",
   "execution_count": null,
   "id": "b3a42d91",
   "metadata": {},
   "outputs": [],
   "source": []
  },
  {
   "cell_type": "code",
   "execution_count": null,
   "id": "7056938d",
   "metadata": {},
   "outputs": [],
   "source": []
  },
  {
   "cell_type": "code",
   "execution_count": null,
   "id": "09b67769",
   "metadata": {},
   "outputs": [],
   "source": []
  },
  {
   "cell_type": "code",
   "execution_count": null,
   "id": "c4b60cdc",
   "metadata": {},
   "outputs": [],
   "source": []
  },
  {
   "cell_type": "code",
   "execution_count": null,
   "id": "c39ce111",
   "metadata": {},
   "outputs": [],
   "source": []
  },
  {
   "cell_type": "code",
   "execution_count": null,
   "id": "792a5084",
   "metadata": {},
   "outputs": [],
   "source": []
  },
  {
   "cell_type": "code",
   "execution_count": null,
   "id": "1d16f843",
   "metadata": {},
   "outputs": [],
   "source": []
  },
  {
   "cell_type": "code",
   "execution_count": null,
   "id": "af745cce",
   "metadata": {},
   "outputs": [],
   "source": []
  },
  {
   "cell_type": "code",
   "execution_count": null,
   "id": "ac4ad2e9",
   "metadata": {},
   "outputs": [],
   "source": []
  },
  {
   "cell_type": "code",
   "execution_count": null,
   "id": "5071c62e",
   "metadata": {},
   "outputs": [],
   "source": []
  },
  {
   "cell_type": "code",
   "execution_count": null,
   "id": "40ba88c5",
   "metadata": {},
   "outputs": [],
   "source": []
  },
  {
   "cell_type": "code",
   "execution_count": null,
   "id": "1aa03f01",
   "metadata": {},
   "outputs": [],
   "source": []
  }
 ],
 "metadata": {
  "kernelspec": {
   "display_name": "Python 3 (ipykernel)",
   "language": "python",
   "name": "python3"
  },
  "language_info": {
   "codemirror_mode": {
    "name": "ipython",
    "version": 3
   },
   "file_extension": ".py",
   "mimetype": "text/x-python",
   "name": "python",
   "nbconvert_exporter": "python",
   "pygments_lexer": "ipython3",
   "version": "3.11.4"
  }
 },
 "nbformat": 4,
 "nbformat_minor": 5
}
